{
 "cells": [
  {
   "cell_type": "markdown",
   "metadata": {},
   "source": [
    "# Exercício - Mini Projeto de Análise de Dados\n",
    "\n",
    "Vamos fazer um exercício completo de pandas para um miniprojeto de análise de dados.\n",
    "\n",
    "Esse exercício vai obrigar a gente a usar boa parte dos conhecimento de pandas e até de outros módulos que já aprendemos ao longo do curso.\n",
    "\n",
    "### O que temos?\n",
    "\n",
    "Temos os dados de 2019 de uma empresa de prestação de serviços. \n",
    "\n",
    "- CadastroFuncionarios\n",
    "- CadastroClientes\n",
    "- BaseServiçosPrestados\n",
    "\n",
    "Obs1: Para ler arquivos csv, temos o read_csv<br>\n",
    "Obs2: Para ler arquivos xlsx (arquivos em excel normais, que não são padrão csv), temos o read_excel\n",
    "\n",
    "### O que queremos saber/fazer?\n",
    "\n",
    "1. Valor Total da Folha Salarial -> Qual foi o gasto total com salários de funcionários pela empresa? <br>\n",
    "    Sugestão: calcule o salário total de cada funcionário, salário + benefícios + impostos, depois some todos os salários\n",
    "    \n",
    "    \n",
    "2. Qual foi o faturamento da empresa?<br>\n",
    "    Sugestão: calcule o faturamento total de cada serviço e depois some o faturamento de todos\n",
    "    \n",
    "    \n",
    "3. Qual o % de funcionários que já fechou algum contrato?<br>\n",
    "    Sugestão: na base de serviços temos o funcionário que fechou cada serviço. Mas nem todos os funcionários que a empresa tem já fecharam algum serviço.<br>\n",
    "    . Na base de funcionários temos uma lista com todos os funcionários<br>\n",
    "    . Queremos calcular Qtde_Funcionarios_Fecharam_Serviço / Qtde_Funcionários_Totais<br>\n",
    "    . Para calcular a qtde de funcionários que fecharam algum serviço, use a base de serviços e conte quantos funcionários tem ali. Mas lembre-se, cada funcionário só pode ser contado uma única vez.<br><br>\n",
    "    Dica: se você aplicar o método .unique() em uma variável que é apenas 1 coluna de um dataframe, ele vai excluir todos os valores duplicados daquela coluna.<br>\n",
    "    Ex: unicos_colunaA = dataframe['colunaA'].unique() te dá como resposta uma lista com todos os itens da colunaA aparecendo uma única vez. Todos os valores repetidos da colunaA são excluidos da variável unicos_colunaA \n",
    "    \n",
    "    \n",
    "4. Calcule o total de contratos que cada área da empresa já fechou\n",
    "\n",
    "\n",
    "5. Calcule o total de funcionários por área\n",
    "\n",
    "\n",
    "6. Qual o ticket médio mensal (faturamento médio mensal) dos contratos?<br>\n",
    "    Dica: .mean() calcula a média -> exemplo: media_colunaA = dataframe['colunaA'].mean()\n",
    "\n",
    "Obs: Lembrando as opções mais usuais de encoding:<br>\n",
    "encoding='latin1', encoding='ISO-8859-1', encoding='utf-8' ou então encoding='cp1252'\n",
    "\n",
    "Observação Importante: Se o seu código der um erro na hora de importar os arquivos:<br>\n",
    "- CadastroClientes.csv\n",
    "- CadastroFuncionarios.csv\n",
    "\n",
    "Use separador \";\" (ponto e vírgula) para resolver"
   ]
  },
  {
   "cell_type": "code",
   "execution_count": 494,
   "metadata": {
    "scrolled": true
   },
   "outputs": [
    {
     "name": "stdout",
     "output_type": "stream",
     "text": [
      "O valor gasto com os salarios dos funcionários no total foi de R$ 2,717,493.22\n"
     ]
    }
   ],
   "source": [
    "import pandas as pd\n",
    "clientes_df = pd.read_csv(\"CadastroClientes.csv\", sep = \";\")\n",
    "\n",
    "base_df = pd.read_excel(\"BaseServiçosPrestados.xlsx\")\n",
    "funcionarios_df = pd.read_csv(\"CadastroFuncionarios.csv\", sep = \";\", decimal = \",\")\n",
    "# display(funcionarios_df)\n",
    "# salarios = funcionarios_df.groupby(['Salario Base', 'Impostos', 'Beneficios']).sum().sort_values(['ID Funcionário'] , ascending = False)\n",
    "# display(salarios)\n",
    "# Questão 01:\n",
    "salario_base = sum(funcionarios_df['Salario Base'])\n",
    "\n",
    "impostos = sum(funcionarios_df['Impostos'])\n",
    "\n",
    "beneficios =sum(funcionarios_df['Beneficios'])\n",
    "\n",
    "VT = sum(funcionarios_df['VT'])\n",
    "\n",
    "VR = sum(funcionarios_df['VR'])\n",
    "\n",
    "print('O valor gasto com os salarios dos funcionários no total foi de R$ {:,.2f}'.format(salario_base + impostos + beneficios + VT + VR))\n",
    "\n",
    "\n",
    "\n",
    "\n",
    "\n",
    "\n",
    "\n",
    "\n",
    "\n",
    "\n"
   ]
  },
  {
   "cell_type": "code",
   "execution_count": 495,
   "metadata": {},
   "outputs": [
    {
     "name": "stdout",
     "output_type": "stream",
     "text": [
      "O faturamento da empresa foi de R$ 5,519,160\n"
     ]
    }
   ],
   "source": [
    "#Questão 02:\n",
    "clientes_id = clientes_df.merge(base_df , on='ID Cliente')\n",
    "\n",
    "clientes_id = clientes_id.set_index('ID Cliente')\n",
    "\n",
    "clientes_id = clientes_id.drop(['Codigo do Servico','Cliente','ID Funcionário'], axis = 1)\n",
    "\n",
    "clientes_id['Fat Individual'] = clientes_id['Valor Contrato Mensal'] * clientes_id['Tempo Total de Contrato (Meses)']\n",
    "\n",
    "faturamento = sum(clientes_id['Fat Individual'])\n",
    "\n",
    "print('O faturamento da empresa foi de R$ {:,}'.format(faturamento))\n"
   ]
  },
  {
   "cell_type": "code",
   "execution_count": 486,
   "metadata": {},
   "outputs": [
    {
     "name": "stdout",
     "output_type": "stream",
     "text": [
      "A porcentagem de funcionários que fecharam serviços foi 86.84%\n"
     ]
    }
   ],
   "source": [
    "#Questão 03:\n",
    "\n",
    "funcionario_pr = funcionarios_df.merge(base_df, on = 'ID Funcionário')\n",
    "\n",
    "unicos = funcionario_pr.groupby(['ID Funcionário', 'Nome Completo']).sum()\n",
    "\n",
    "porcentagem = len(unicos) / len(funcionarios_df['Nome Completo'])\n",
    "\n",
    "print('A porcentagem de funcionários que fecharam serviços foi {:.2%}'.format(porcentagem))\n"
   ]
  },
  {
   "cell_type": "code",
   "execution_count": 517,
   "metadata": {},
   "outputs": [
    {
     "name": "stdout",
     "output_type": "stream",
     "text": [
      "\n",
      "Total de contratos da área Administrativa: 63\n",
      "Total de contratos da área de Operações: 48\n",
      "Total de contratos da área de Logística: 40\n",
      "Total de contratos da área Comercial: 44\n",
      "Total de contratos da área Financeira: 42\n"
     ]
    },
    {
     "data": {
      "image/png": "[encoded data removed]",
      "text/plain": [
       "<Figure size 640x480 with 1 Axes>"
      ]
     },
     "metadata": {},
     "output_type": "display_data"
    }
   ],
   "source": [
    "#Questão 04:\n",
    "# display(funcionarios_df)\n",
    "unidades = funcionario_pr['Area']\n",
    "adm = 0\n",
    "ope = 0\n",
    "log = 0\n",
    "com = 0\n",
    "fin = 0\n",
    "for i,item in enumerate(unidades):\n",
    "    if item == 'Administrativo':\n",
    "        adm += 1\n",
    "    if item == 'Operações':\n",
    "        ope += 1\n",
    "    if item == 'Logística':\n",
    "        log += 1\n",
    "    if item == 'Comercial':\n",
    "        com += 1\n",
    "    if item == 'Financeiro':\n",
    "        fin += 1\n",
    "        \n",
    "ploti = ({'Área':['Administrador', 'Operações', 'logística', 'Comercial', 'Financeiro'],'val':[adm,ope,log,com,fin]})\n",
    "graf = pd.DataFrame(ploti)\n",
    "graf.plot.bar(x = 'Área', y = 'val', rot=0)\n",
    "print(\"\\nTotal de contratos da área Administrativa: {}\\nTotal de contratos da área de Operações: {}\\nTotal de contratos da área de Logística: {}\\nTotal de contratos da área Comercial: {}\\nTotal de contratos da área Financeira: {}\".format(adm,ope,log,com,fin))\n",
    "# display(unidades)\n"
   ]
  },
  {
   "cell_type": "code",
   "execution_count": 516,
   "metadata": {},
   "outputs": [
    {
     "name": "stdout",
     "output_type": "stream",
     "text": [
      "\n",
      "Total de funcionários da Área Administrativa: 26\n",
      "Total de funcionários da Área Operações: 23\n",
      "Total de funcionários da Área Logística: 21\n",
      "Total de funcionários da Área Comercial: 26\n",
      "Total de funcionários da Área Financeiro: 18\n"
     ]
    },
    {
     "data": {
      "image/png": "[encoded data removed]",
      "text/plain": [
       "<Figure size 640x480 with 1 Axes>"
      ]
     },
     "metadata": {},
     "output_type": "display_data"
    }
   ],
   "source": [
    "#Questão 05:\n",
    "unidades = funcionarios_df['Area']\n",
    "adm = 0\n",
    "ope = 0\n",
    "log = 0\n",
    "com = 0\n",
    "fin = 0\n",
    "for i,item in enumerate(unidades):\n",
    "    if item == 'Administrativo':\n",
    "        adm += 1\n",
    "    if item == 'Operações':\n",
    "        ope += 1\n",
    "    if item == 'Logística':\n",
    "        log += 1\n",
    "    if item == 'Comercial':\n",
    "        com += 1\n",
    "    if item == 'Financeiro':\n",
    "        fin += 1\n",
    "        \n",
    "ploti = ({'Área':['Administrador', 'Operações', 'logística', 'Comercial', 'Financeiro'],'val':[adm,ope,log,com,fin]})\n",
    "graf = pd.DataFrame(ploti)\n",
    "graf.plot.bar(x = 'Área', y = 'val', rot=0)\n",
    "print('\\nTotal de funcionários da Área Administrativa: {}\\nTotal de funcionários da Área Operações: {}\\nTotal de funcionários da Área Logística: {}\\nTotal de funcionários da Área Comercial: {}\\nTotal de funcionários da Área Financeiro: {}'.format(adm,ope,log,com,fin))\n",
    "# display(unidades)"
   ]
  },
  {
   "cell_type": "code",
   "execution_count": 490,
   "metadata": {},
   "outputs": [
    {
     "name": "stdout",
     "output_type": "stream",
     "text": [
      "valor mensal R$2,502.56\n"
     ]
    }
   ],
   "source": [
    "#Questão 06:\n",
    "valor = clientes_df['Valor Contrato Mensal']\n",
    "media = clientes_df['Valor Contrato Mensal'].mean()\n",
    "print('valor mensal R${:,.2f}'.format(media))\n"
   ]
  },
  {
   "cell_type": "code",
   "execution_count": null,
   "metadata": {},
   "outputs": [],
   "source": []
  }
 ],
 "metadata": {
  "kernelspec": {
   "display_name": "Python 3 (ipykernel)",
   "language": "python",
   "name": "python3"
  },
  "language_info": {
   "codemirror_mode": {
    "name": "ipython",
    "version": 3
   },
   "file_extension": ".py",
   "mimetype": "text/x-python",
   "name": "python",
   "nbconvert_exporter": "python",
   "pygments_lexer": "ipython3",
   "version": "3.9.13"
  },
  "vscode": {
   "interpreter": {
    "hash": "fdd3202d5d942a990db288548ccc6a3dcf97f3b0ff9408c81ea233d12c83e67d"
   }
  }
 },
 "nbformat": 4,
 "nbformat_minor": 4
}
